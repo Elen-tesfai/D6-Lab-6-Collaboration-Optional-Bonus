{
 "cells": [
  {
   "cell_type": "markdown",
   "id": "77fd2461",
   "metadata": {},
   "source": [
    "# Lab 6: Model Deployment - Elen\n",
    "\n",
    "**Name**: Elen Tesfai  \n",
    "**Date**: April 04, 2025  \n",
    "**Purpose**: This notebook demonstrates the process of deploying a trained machine learning model using Flask and serving it as a web API. The two models involved are:\n",
    "1. Linear Regression for predicting weight from height.\n",
    "2. Logistic Regression for classifying Iris flowers based on features.\n",
    "\n",
    "---\n",
    "\n",
    "## 1. Environment Setup\n",
    "\n",
    "This section installs the necessary libraries and sets up the Flask server.\n",
    "\n",
    "```python\n",
    "# Install required libraries\n",
    "!pip install flask scikit-learn numpy pandas matplotlib"
   ]
  },
  {
   "cell_type": "markdown",
   "id": "13c9d29a",
   "metadata": {},
   "source": [
    "## 2. Loading Trained Models\n",
    "\n",
    "In this section, we will load the trained models that we will serve via the Flask API. These models have already been trained and saved using `pickle`. We will load them into memory so that we can use them for predictions in the Flask application."
   ]
  },
  {
   "cell_type": "code",
   "execution_count": 11,
   "id": "65a0ddd4",
   "metadata": {},
   "outputs": [
    {
     "name": "stdout",
     "output_type": "stream",
     "text": [
      "Current Working Directory: c:\\Projects\\flask_model_deployment\\Lab6-Model-Deployment\n",
      "Weight prediction model loaded successfully.\n",
      "Iris classification model loaded successfully.\n"
     ]
    }
   ],
   "source": [
    "import pickle\n",
    "import os\n",
    "\n",
    "# Verify that the current working directory is correct\n",
    "print(\"Current Working Directory:\", os.getcwd())\n",
    "\n",
    "# Load the weight prediction model (Linear Regression)\n",
    "try:\n",
    "    with open('C:/Projects/flask_model_deployment/finalized_model.sav', 'rb') as f:  # Adjust path\n",
    "        weight_model = pickle.load(f)\n",
    "    print(\"Weight prediction model loaded successfully.\")\n",
    "except FileNotFoundError:\n",
    "    print(\"Error: 'finalized_model.sav' not found. Please ensure the file is in the correct directory.\")\n",
    "\n",
    "# Load the Iris classification model (Logistic Regression)\n",
    "try:\n",
    "    with open('C:/Projects/flask_model_deployment/iris_model.sav', 'rb') as f:  # Adjust path\n",
    "        iris_model = pickle.load(f)\n",
    "    print(\"Iris classification model loaded successfully.\")\n",
    "except FileNotFoundError:\n",
    "    print(\"Error: 'iris_model.sav' not found. Please ensure the file is in the correct directory.\")"
   ]
  },
  {
   "cell_type": "markdown",
   "id": "61511f5f",
   "metadata": {},
   "source": [
    "## 3. Flask Application Setup\n",
    "\n",
    "Now that your models are loaded successfully, you’ll move on to creating the Flask API that will serve these models for predictions. Follow these steps:\n",
    "\n",
    "### 3.1 Setting Up Flask\n",
    "\n",
    "To set up the Flask application, follow these steps:\n",
    "\n",
    "### 1. **Install Flask**:\n",
    "   \n",
    "   If you haven’t already installed Flask, use the following command to install it in your virtual environment:\n",
    "   \n",
    "   ```bash\n",
    "   pip install flask\n",
    "   This part is redundant, as the Flask setup is handled in `app.py`, and you don't need to repeat the Flask setup instructions in the notebook.\n",
    "```\n",
    "### 2. ** Keep the Progress Steps for Model Evaluation in the Notebook **:\n",
    "\n",
    "You can leave the evaluation and analysis scripts I shared in the notebook. This will help you perform the analysis (like comparing models, plotting results, and testing the Flask API).\n",
    "\n",
    "After removing the redundant Flask setup section, your notebook will be clean and focused on the necessary analysis for **model performance** and **Flask server testing**."
   ]
  },
  {
   "cell_type": "markdown",
   "id": "986ffc12",
   "metadata": {},
   "source": [
    "### **\"Training and Saving a Pipeline Model for Linear Regression\"**\n",
    "\n",
    "This title accurately reflects the steps in the script, which include:\n",
    "\n",
    "- **Creating a dataset** with height and weight.\n",
    "- **Splitting the data** into training and test sets.\n",
    "- **Building a pipeline** with scaling and a linear regression model.\n",
    "- **Training the model** and saving it for future use."
   ]
  },
  {
   "cell_type": "code",
   "execution_count": 17,
   "id": "ec011a7b",
   "metadata": {},
   "outputs": [
    {
     "name": "stdout",
     "output_type": "stream",
     "text": [
      "Model trained and saved successfully!\n"
     ]
    }
   ],
   "source": [
    "import pandas as pd\n",
    "\n",
    "# Create a simple example dataset\n",
    "data = pd.DataFrame({\n",
    "    'height': [150, 160, 170, 180, 190],  # Example heights in cm\n",
    "    'weight': [50, 60, 70, 80, 90]        # Example weights in kg\n",
    "})\n",
    "\n",
    "# Save this data to a CSV (optional)\n",
    "data.to_csv('your_data.csv', index=False)\n",
    "\n",
    "# Now you can proceed with the rest of the code\n",
    "X = data[['height']]  # Features (input data)\n",
    "y = data['weight']    # Target variable (output)\n",
    "\n",
    "# Split the data into training and testing sets\n",
    "from sklearn.model_selection import train_test_split\n",
    "X_train, X_test, y_train, y_test = train_test_split(X, y, test_size=0.2, random_state=42)\n",
    "\n",
    "# Create the pipeline\n",
    "from sklearn.pipeline import Pipeline\n",
    "from sklearn.linear_model import LinearRegression\n",
    "from sklearn.preprocessing import StandardScaler\n",
    "\n",
    "pipe_model = Pipeline([\n",
    "    ('scaler', StandardScaler()),  # Preprocessing step\n",
    "    ('regressor', LinearRegression())  # Model step\n",
    "])\n",
    "\n",
    "# Train the pipeline model\n",
    "pipe_model.fit(X_train, y_train)\n",
    "\n",
    "# Save the trained model to a file\n",
    "import pickle\n",
    "with open('C:/Projects/flask_model_deployment/pipe_model.sav', 'wb') as f:\n",
    "    pickle.dump(pipe_model, f)\n",
    "\n",
    "print(\"Model trained and saved successfully!\")"
   ]
  },
  {
   "cell_type": "markdown",
   "id": "fffa3fa1",
   "metadata": {},
   "source": [
    "## **Progress 1 - Screenshot of the Pipeline Model Results**\n",
    "\n",
    "In this step, you need to display the performance metrics of your trained pipeline model. The following script will calculate and display the performance metrics such as **Mean Absolute Error (MAE)**, **Root Mean Squared Error (RMSE)**, **Mean Squared Error (MSE)**, and **R-squared (R²)** for both the **training** and **test** datasets:\n"
   ]
  },
  {
   "cell_type": "code",
   "execution_count": 18,
   "id": "5eee78cc",
   "metadata": {},
   "outputs": [
    {
     "name": "stdout",
     "output_type": "stream",
     "text": [
      "Training Data Performance:\n",
      "MAE: 1.7763568394002505e-15\n",
      "RMSE: 3.552713678800501e-15\n",
      "MSE: 1.262177448353619e-29\n",
      "R^2: 1.0\n",
      "Test Data Performance:\n",
      "MAE: 0.0\n",
      "RMSE: 0.0\n",
      "MSE: 0.0\n",
      "R^2: nan\n"
     ]
    },
    {
     "name": "stderr",
     "output_type": "stream",
     "text": [
      "c:\\Users\\su_te\\AppData\\Local\\Programs\\Python\\Python313\\Lib\\site-packages\\sklearn\\metrics\\_regression.py:1266: UndefinedMetricWarning: R^2 score is not well-defined with less than two samples.\n",
      "  warnings.warn(msg, UndefinedMetricWarning)\n"
     ]
    }
   ],
   "source": [
    "# Load the trained pipeline model\n",
    "with open('C:/Projects/flask_model_deployment/pipe_model.sav', 'rb') as f:\n",
    "    pipe_model = pickle.load(f)\n",
    "\n",
    "# Evaluate on training data\n",
    "y_train_pred = pipe_model.predict(X_train)\n",
    "print('Training Data Performance:')\n",
    "print('MAE:', mean_absolute_error(y_train, y_train_pred))\n",
    "print('RMSE:', np.sqrt(mean_squared_error(y_train, y_train_pred)))\n",
    "print('MSE:', mean_squared_error(y_train, y_train_pred))\n",
    "print('R^2:', r2_score(y_train, y_train_pred))\n",
    "\n",
    "# Evaluate on test data\n",
    "y_test_pred = pipe_model.predict(X_test)\n",
    "print('Test Data Performance:')\n",
    "print('MAE:', mean_absolute_error(y_test, y_test_pred))\n",
    "print('RMSE:', np.sqrt(mean_squared_error(y_test, y_test_pred)))\n",
    "print('MSE:', mean_squared_error(y_test, y_test_pred))\n",
    "print('R^2:', r2_score(y_test, y_test_pred))"
   ]
  },
  {
   "cell_type": "markdown",
   "id": "68acb761",
   "metadata": {},
   "source": [
    "### Explanation of the Results for Progress 1 - Screenshot of the Pipeline Model Results:\n",
    "\n",
    "- **Training Data Performance**:\n",
    "  - **MAE (Mean Absolute Error)**: `1.7763568394002505e-15`, which is a very small value, indicating that the model's predictions are extremely close to the true values.\n",
    "  - **RMSE (Root Mean Squared Error)**: `3.552713678800501e-15`, which is also a very small value, further confirming the model's excellent performance on the training data.\n",
    "  - **MSE (Mean Squared Error)**: `1.262177448353619e-29`, an extremely small number, indicating that the error is negligible.\n",
    "  - **R² (R-squared)**: `1.0`, meaning that the model explains 100% of the variance in the training data, showing a perfect fit.\n",
    "\n",
    "- **Test Data Performance**:\n",
    "  - **MAE, RMSE, MSE**: All values are `0.0`, indicating that the model made perfect predictions on the test data (which is quite rare for a real-world model).\n",
    "  - **R²**: **NaN (Not a Number)** due to an issue with the test set. R² is not well-defined with fewer than two samples. This warning appears because the model is evaluated on a very small test set.\n",
    "\n",
    "### Issue:\n",
    "- The **NaN for R²** in the test data occurs because the test set likely contains only one sample, and the R² calculation is undefined in such cases.\n",
    "\n",
    "### Solution:\n",
    "- **Increase the test size**: To avoid this issue, ensure that the test set contains at least two samples (e.g., use `test_size=0.2` to allocate more data to the test set)."
   ]
  },
  {
   "cell_type": "markdown",
   "id": "a54bd49f",
   "metadata": {},
   "source": [
    "## Progress 2 - Compare Linear with Pipeline Performance\n",
    "\n",
    "In this step, you compare the performance of the pipeline model with that of a simple linear regression model. Here's the script for comparing both models:"
   ]
  },
  {
   "cell_type": "code",
   "execution_count": 19,
   "id": "5fcf6fc5",
   "metadata": {},
   "outputs": [
    {
     "name": "stdout",
     "output_type": "stream",
     "text": [
      "Linear Regression Training Performance:\n",
      "MAE: 0.0\n",
      "RMSE: 0.0\n",
      "MSE: 0.0\n",
      "R^2: 1.0\n",
      "Linear Regression Test Performance:\n",
      "MAE: 0.0\n",
      "RMSE: 0.0\n",
      "MSE: 0.0\n",
      "R^2: nan\n"
     ]
    },
    {
     "name": "stderr",
     "output_type": "stream",
     "text": [
      "c:\\Users\\su_te\\AppData\\Local\\Programs\\Python\\Python313\\Lib\\site-packages\\sklearn\\metrics\\_regression.py:1266: UndefinedMetricWarning: R^2 score is not well-defined with less than two samples.\n",
      "  warnings.warn(msg, UndefinedMetricWarning)\n"
     ]
    }
   ],
   "source": [
    "# Import necessary libraries\n",
    "from sklearn.linear_model import LinearRegression\n",
    "from sklearn.metrics import mean_absolute_error, mean_squared_error, r2_score\n",
    "import numpy as np\n",
    "\n",
    "# Train the linear regression model\n",
    "lr_model = LinearRegression()\n",
    "lr_model.fit(X_train, y_train)\n",
    "\n",
    "# Predict with the linear regression model\n",
    "y_train_lr_pred = lr_model.predict(X_train)\n",
    "y_test_lr_pred = lr_model.predict(X_test)\n",
    "\n",
    "# Evaluate performance of linear regression model\n",
    "print(\"Linear Regression Training Performance:\")\n",
    "print('MAE:', mean_absolute_error(y_train, y_train_lr_pred))\n",
    "print('RMSE:', np.sqrt(mean_squared_error(y_train, y_train_lr_pred)))\n",
    "print('MSE:', mean_squared_error(y_train, y_train_lr_pred))\n",
    "print('R^2:', r2_score(y_train, y_train_lr_pred))\n",
    "\n",
    "print(\"Linear Regression Test Performance:\")\n",
    "print('MAE:', mean_absolute_error(y_test, y_test_lr_pred))\n",
    "print('RMSE:', np.sqrt(mean_squared_error(y_test, y_test_lr_pred)))\n",
    "print('MSE:', mean_squared_error(y_test, y_test_lr_pred))\n",
    "print('R^2:', r2_score(y_test, y_test_lr_pred))"
   ]
  },
  {
   "cell_type": "markdown",
   "id": "d17c3b27",
   "metadata": {},
   "source": [
    "### Explanation of the Results:\n",
    "\n",
    "- **Training Data**:\n",
    "  - **MAE, RMSE, MSE**: All 0, indicating perfect predictions.\n",
    "  - **R²**: 1.0, meaning the model fits the training data perfectly.\n",
    "\n",
    "- **Test Data**:\n",
    "  - **MAE, RMSE, MSE**: All 0, indicating perfect predictions on the test data (which is unlikely with such a small dataset).\n",
    "  - **R²**: **NaN** (Not a Number) due to having fewer than two test samples, which makes the R² calculation undefined.\n",
    "\n",
    "### Issue:\n",
    "- The **NaN for R²** is caused by having too few test samples (likely just 1 sample). R² requires at least two test samples.\n",
    "\n",
    "### Solution:\n",
    "- **Increase the test size**: Ensure your test set has more than one sample (e.g., use `test_size=0.4` for a larger test set)."
   ]
  },
  {
   "cell_type": "markdown",
   "id": "da129a97",
   "metadata": {},
   "source": [
    "## Progress 3 - Scatter Plot with the Pipeline Model Curve\n",
    "\n",
    "In this step, you will visualize the performance of your trained pipeline model by plotting the predicted values against the actual values for both the training and test data. You can overlay the predicted curve to show how well the model fits the data.\n",
    "\n",
    "Here is the script to generate the scatter plot and overlay the model's predicted curve:\n"
   ]
  },
  {
   "cell_type": "code",
   "execution_count": 20,
   "id": "4332307d",
   "metadata": {},
   "outputs": [
    {
     "data": {
      "image/png": "[encoded data removed]",
      "text/plain": [
       "<Figure size 1000x600 with 1 Axes>"
      ]
     },
     "metadata": {},
     "output_type": "display_data"
    }
   ],
   "source": [
    "import matplotlib.pyplot as plt\n",
    "import numpy as np\n",
    "\n",
    "# Generate predictions for both training and test datasets\n",
    "y_train_pred = pipe_model.predict(X_train)\n",
    "y_test_pred = pipe_model.predict(X_test)\n",
    "\n",
    "# Plotting\n",
    "plt.figure(figsize=(10, 6))\n",
    "\n",
    "# Scatter plot for training data\n",
    "plt.scatter(X_train, y_train, color='blue', label='Training data')\n",
    "\n",
    "# Scatter plot for test data\n",
    "plt.scatter(X_test, y_test, color='green', label='Test data')\n",
    "\n",
    "# Plot the predicted curve for the training data\n",
    "plt.plot(X_train, y_train_pred, color='red', linewidth=2, label='Training data prediction')\n",
    "\n",
    "# Plot the predicted curve for the test data\n",
    "plt.plot(X_test, y_test_pred, color='orange', linewidth=2, label='Test data prediction')\n",
    "\n",
    "# Adding labels and title\n",
    "plt.xlabel('Height (cm)')\n",
    "plt.ylabel('Weight (kg)')\n",
    "plt.title('import matplotlib.pyplot as plt\n",
    "import numpy as np\n",
    "\n",
    "# Generate predictions for both training and test datasets\n",
    "y_train_pred = pipe_model.predict(X_train)\n",
    "y_test_pred = pipe_model.predict(X_test)\n",
    "\n",
    "# Plotting\n",
    "plt.figure(figsize=(10, 6))\n",
    "\n",
    "# Scatter plot for training data\n",
    "plt.scatter(X_train, y_train, color='blue', label='Training data')\n",
    "\n",
    "# Scatter plot for test data\n",
    "plt.scatter(X_test, y_test, color='green', label='Test data')\n",
    "\n",
    "# Plot the predicted curve for the training data\n",
    "plt.plot(X_train, y_train_pred, color='red', linewidth=2, label='Training data prediction')\n",
    "\n",
    "# Plot the predicted curve for the test data\n",
    "plt.plot(X_test, y_test_pred, color='orange', linewidth=2, label='Test data prediction')\n",
    "\n",
    "# Adding labels and title\n",
    "plt.xlabel('Height (cm)')\n",
    "plt.ylabel('Weight (kg)')\n",
    "plt.title('Actual vs. Predicted Weight vs. Height')\n",
    "plt.legend()\n",
    "\n",
    "# Show the plot\n",
    "plt.show()')\n",
    "plt.legend()\n",
    "\n",
    "# Show the plot\n",
    "plt.show()"
   ]
  },
  {
   "cell_type": "markdown",
   "id": "244000c7",
   "metadata": {},
   "source": [
    "### Explanation:\n",
    "\n",
    "- **Training Data Scatter**: The blue scatter points represent the actual height and weight values from the training data.\n",
    "\n",
    "- **Test Data Scatter**: The green scatter points represent the actual height and weight values from the test data.\n",
    "\n",
    "- **Training Data Prediction Curve**: The red line shows the predicted values from the pipeline model for the training data.\n",
    "\n",
    "- **Test Data Prediction Curve**: The orange line shows the predicted values from the pipeline model for the test data.\n",
    "\n",
    "- **Visualization**: This will give you a visual representation of how well the pipeline model fits the data and its ability to predict unseen data (test data)."
   ]
  },
  {
   "cell_type": "code",
   "execution_count": 23,
   "id": "f3794b12",
   "metadata": {},
   "outputs": [
    {
     "ename": "ModuleNotFoundError",
     "evalue": "No module named 'flask'",
     "output_type": "error",
     "traceback": [
      "\u001b[1;31m---------------------------------------------------------------------------\u001b[0m",
      "\u001b[1;31mModuleNotFoundError\u001b[0m                       Traceback (most recent call last)",
      "Cell \u001b[1;32mIn[23], line 2\u001b[0m\n\u001b[0;32m      1\u001b[0m \u001b[38;5;28;01mimport\u001b[39;00m \u001b[38;5;21;01mpickle\u001b[39;00m\n\u001b[1;32m----> 2\u001b[0m \u001b[38;5;28;01mfrom\u001b[39;00m \u001b[38;5;21;01mflask\u001b[39;00m \u001b[38;5;28;01mimport\u001b[39;00m Flask, request, jsonify\n\u001b[0;32m      4\u001b[0m app \u001b[38;5;241m=\u001b[39m Flask(\u001b[38;5;18m__name__\u001b[39m)\n\u001b[0;32m      6\u001b[0m \u001b[38;5;66;03m# Load the saved model\u001b[39;00m\n",
      "\u001b[1;31mModuleNotFoundError\u001b[0m: No module named 'flask'"
     ]
    }
   ],
   "source": [
    "import pickle\n",
    "from flask import Flask, request, jsonify\n",
    "\n",
    "app = Flask(__name__)\n",
    "\n",
    "# Load the saved model\n",
    "with open('Lab6-Model-Deployment/pipe_model.sav', 'rb') as f:\n",
    "    pipe_model = pickle.load(f)\n",
    "\n",
    "@app.route('/predict', methods=['POST'])\n",
    "def predict():\n",
    "    data = request.get_json(force=True)\n",
    "    height = data['height']\n",
    "    prediction = pipe_model.predict([[height]])\n",
    "    return jsonify({'predicted_weight': prediction[0]})\n",
    "\n",
    "if __name__ == '__main__':\n",
    "    app.run(debug=True)"
   ]
  },
  {
   "cell_type": "code",
   "execution_count": null,
   "id": "f3d00c73",
   "metadata": {},
   "outputs": [],
   "source": []
  }
 ],
 "metadata": {
  "kernelspec": {
   "display_name": "Python 3",
   "language": "python",
   "name": "python3"
  },
  "language_info": {
   "codemirror_mode": {
    "name": "ipython",
    "version": 3
   },
   "file_extension": ".py",
   "mimetype": "text/x-python",
   "name": "python",
   "nbconvert_exporter": "python",
   "pygments_lexer": "ipython3",
   "version": "3.13.0"
  }
 },
 "nbformat": 4,
 "nbformat_minor": 5
}
